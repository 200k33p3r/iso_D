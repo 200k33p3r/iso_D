{
 "cells": [
  {
   "cell_type": "code",
   "execution_count": 1,
   "id": "b63676ad",
   "metadata": {},
   "outputs": [],
   "source": [
    "import os"
   ]
  },
  {
   "cell_type": "code",
   "execution_count": 3,
   "id": "7aa6f62a",
   "metadata": {},
   "outputs": [
    {
     "data": {
      "text/plain": [
       "['m1150.feh230.21976',\n",
       " 'm1200.feh230.21976',\n",
       " 'm0850.feh230.21976',\n",
       " 'm0600.feh230.21976',\n",
       " 'm1350.feh230.21976',\n",
       " 'm1450.feh230.21976',\n",
       " 'm1300.feh230.21976',\n",
       " 'm1250.feh230.21976',\n",
       " 'm1100.feh230.21976',\n",
       " 'm0650.feh230.21976',\n",
       " 'm0900.feh230.21976',\n",
       " 'm1400.feh230.21976',\n",
       " 'm0800.feh230.21976',\n",
       " 'm0550.feh230.21976',\n",
       " 'm0750.feh230.21976',\n",
       " 'm1050.feh230.21976',\n",
       " 'm0500.feh230.21976',\n",
       " 'm1500.feh230.21976',\n",
       " 'm0950.feh230.21976',\n",
       " 'm1000.feh230.21976',\n",
       " 'm0700.feh230.21976']"
      ]
     },
     "execution_count": 3,
     "metadata": {},
     "output_type": "execute_result"
    }
   ],
   "source": [
    "os.chdir('mcfeh230.21976')\n",
    "os.listdir()"
   ]
  },
  {
   "cell_type": "code",
   "execution_count": 4,
   "id": "9f4f7124",
   "metadata": {},
   "outputs": [
    {
     "data": {
      "text/plain": [
       "['m1150.trk',\n",
       " 'm1000.trk',\n",
       " 'm1250.trk',\n",
       " 'm1500.trk',\n",
       " 'm1450.trk',\n",
       " 'm1350.trk',\n",
       " 'm0600.trk',\n",
       " 'm1050.trk',\n",
       " 'm0800.trk',\n",
       " 'm0950.trk',\n",
       " 'm0500.trk',\n",
       " 'm0700.trk',\n",
       " 'm0750.trk',\n",
       " 'm1400.trk',\n",
       " 'm1200.trk',\n",
       " 'm1300.trk',\n",
       " 'm0900.trk',\n",
       " 'm0550.trk',\n",
       " 'm0650.trk',\n",
       " 'm0850.trk',\n",
       " 'm1100.trk']"
      ]
     },
     "execution_count": 4,
     "metadata": {},
     "output_type": "execute_result"
    }
   ],
   "source": [
    "for file in os.listdir():\n",
    "    newname = file[:6] + 'trk'\n",
    "    os.rename(file,newname)\n",
    "os.listdir()"
   ]
  },
  {
   "cell_type": "code",
   "execution_count": 5,
   "id": "2f07a451",
   "metadata": {},
   "outputs": [],
   "source": [
    "os.chdir('..')"
   ]
  },
  {
   "cell_type": "code",
   "execution_count": 3,
   "id": "5ed81382",
   "metadata": {},
   "outputs": [],
   "source": [
    "import trk_to_hist"
   ]
  },
  {
   "cell_type": "code",
   "execution_count": 4,
   "id": "7b0acfe0",
   "metadata": {},
   "outputs": [
    {
     "data": {
      "text/plain": [
       "['m0500.data',\n",
       " 'm1150.trk',\n",
       " 'm1000.trk',\n",
       " 'm0850.data',\n",
       " 'm1250.trk',\n",
       " 'm0700.data',\n",
       " 'm0600.data',\n",
       " 'm1500.data',\n",
       " 'm0550.data',\n",
       " 'm1500.trk',\n",
       " 'm1000.data',\n",
       " 'm1350.data',\n",
       " 'm1450.trk',\n",
       " 'm1350.trk',\n",
       " 'm0600.trk',\n",
       " 'm1050.data',\n",
       " 'm1050.trk',\n",
       " 'm0800.trk',\n",
       " 'm0950.trk',\n",
       " 'm0500.trk',\n",
       " 'm0650.data',\n",
       " 'm0700.trk',\n",
       " 'm0750.trk',\n",
       " 'm1400.trk',\n",
       " 'm1400.data',\n",
       " 'm1300.data',\n",
       " 'm0900.data',\n",
       " 'm1200.trk',\n",
       " 'm1300.trk',\n",
       " 'm1200.data',\n",
       " 'm0900.trk',\n",
       " 'm1100.data',\n",
       " 'm1150.data',\n",
       " 'm0550.trk',\n",
       " 'm0650.trk',\n",
       " 'm0950.data',\n",
       " 'm0850.trk',\n",
       " 'm1100.trk',\n",
       " 'm1250.data',\n",
       " 'm1450.data',\n",
       " 'm0750.data',\n",
       " 'm0800.data']"
      ]
     },
     "execution_count": 4,
     "metadata": {},
     "output_type": "execute_result"
    }
   ],
   "source": [
    "os.chdir('/home/mying/Desktop/iso-master/mcfeh230.21976')\n",
    "for file in os.listdir():\n",
    "    trk_to_hist.convert(file)\n",
    "os.listdir()"
   ]
  },
  {
   "cell_type": "code",
   "execution_count": 9,
   "id": "f02db0ab",
   "metadata": {},
   "outputs": [
    {
     "name": "stdout",
     "output_type": "stream",
     "text": [
      "m0500.data\n",
      "m0850.data\n",
      "m0700.data\n",
      "m0600.data\n",
      "m1500.data\n",
      "m0550.data\n",
      "m1000.data\n",
      "m1350.data\n",
      "m1050.data\n",
      "m0650.data\n",
      "m1400.data\n",
      "m1300.data\n",
      "m0900.data\n",
      "m1200.data\n",
      "m1100.data\n",
      "m1150.data\n",
      "m0950.data\n",
      "m1250.data\n",
      "m1450.data\n",
      "m0750.data\n",
      "m0800.data\n"
     ]
    }
   ],
   "source": [
    "os.chdir('../data/tracks')\n",
    "for file in os.listdir():\n",
    "    print(file)"
   ]
  },
  {
   "cell_type": "code",
   "execution_count": null,
   "id": "19999796",
   "metadata": {},
   "outputs": [],
   "source": []
  }
 ],
 "metadata": {
  "kernelspec": {
   "display_name": "Python 3",
   "language": "python",
   "name": "python3"
  },
  "language_info": {
   "codemirror_mode": {
    "name": "ipython",
    "version": 3
   },
   "file_extension": ".py",
   "mimetype": "text/x-python",
   "name": "python",
   "nbconvert_exporter": "python",
   "pygments_lexer": "ipython3",
   "version": "3.8.8"
  }
 },
 "nbformat": 4,
 "nbformat_minor": 5
}
